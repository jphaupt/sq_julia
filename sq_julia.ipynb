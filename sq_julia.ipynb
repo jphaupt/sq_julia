{
 "cells": [
  {
   "cell_type": "markdown",
   "metadata": {},
   "source": [
    "# The Shockley-Quiesser Limit\n",
    "TODO also explain the physics here (in Markdown), using mostly Jenny Nelson's book\n",
    "TODO also explain the Julia (first time learning it as well)"
   ]
  },
  {
   "cell_type": "markdown",
   "metadata": {},
   "source": [
    "Import necessary packages"
   ]
  },
  {
   "cell_type": "code",
   "execution_count": 1,
   "metadata": {},
   "outputs": [],
   "source": [
    "using DelimitedFiles\n",
    "using Plots\n",
    "using NumericalIntegration\n",
    "using Interpolations"
   ]
  },
  {
   "cell_type": "markdown",
   "metadata": {},
   "source": [
    "Define relevant physical constants, and introduce values we will use "
   ]
  },
  {
   "cell_type": "code",
   "execution_count": 2,
   "metadata": {},
   "outputs": [
    {
     "data": {
      "text/plain": [
       "300"
      ]
     },
     "execution_count": 2,
     "metadata": {},
     "output_type": "execute_result"
    }
   ],
   "source": [
    "h = 6.62607004e-34   # m^2 kg /s\n",
    "c = 2.99792458e8 # m/s \n",
    "q = 1.6021766208e-19 # C\n",
    "kB = 1.38064852e-23 # m^2 kg /s^2 /K\n",
    "eV = 1.6021766208e-19 # J\n",
    "\n",
    "Tcell = 300 # assume in equilibrium with the ambient "
   ]
  },
  {
   "cell_type": "markdown",
   "metadata": {},
   "source": [
    "Read AM1.5 data, downloaded [here](https://www.nrel.gov/grid/solar-resource/spectra-am1.5.html) and interpolate using the Interpolations package. "
   ]
  },
  {
   "cell_type": "code",
   "execution_count": null,
   "metadata": {},
   "outputs": [],
   "source": [
    "am15 = readdlm(\"astmg173.csv\", ',', Float64, '\\n', skipstart=2);\n",
    "λ = am15[:,1];\n",
    "irrad = am15[:,3]; # irradiance (intensity) W /m^2 /nm\n",
    "\n",
    "# interpolate\n",
    "I=interpolate((λ,),irrad,Gridded(Linear()));\n",
    "p=plot(λ, I(λ), label=\"AM1.5 Irradiance\")\n",
    "display(p)\n",
    "\n",
    "# determine band gap energy range\n",
    "Es = LinRange(1240/maximum(λ), 1240/minimum(λ), 1000)\n",
    "\n",
    "# checking normalisation\n",
    "Psolar = integrate(λ, I(λ))\n",
    "print(Psolar)\n",
    "\n",
    "# can filter data to be a certain range \n",
    "# plot(λ[λ.>1000], I(λ[λ.>1000]))"
   ]
  },
  {
   "cell_type": "markdown",
   "metadata": {},
   "source": [
    "Since $E=\\frac{hc}{\\lambda}$, we can obtain the photon flux density. "
   ]
  },
  {
   "cell_type": "code",
   "execution_count": null,
   "metadata": {},
   "outputs": [],
   "source": [
    "# h*c / eV = 1240 nm\n",
    "λdB = 1240 ./ Es \n",
    "# photon flux per energy (also change units) # 1 / m^2 / eV / s\n",
    "# [I] = W /m^2 /nm\n",
    "# [Es] = eV\n",
    "# [hc] = eV nm\n",
    "γ = I(λdB) ./Es * 1240 ./ Es.^2 / eV #/ 1e9\n",
    "# γ = W / m^2 /nm / eV * eV nm / eV^2 / eV\n",
    "#   = W / m^2 / eV\n",
    "display(plot(Es, γ))"
   ]
  },
  {
   "cell_type": "markdown",
   "metadata": {},
   "source": [
    "The short-circuit current density is\n",
    "$$\n",
    "J_{\\rm sc} = q\\int_{E_g}^\\infty {\\rm d}Eb_s(E)Q_E(E) = q\\int_{E_g}^\\infty {\\rm d}E\\gamma(E)\n",
    "$$\n",
    "for an ideal cell. I used notation such that $\\gamma=b_s$ (Jenny Nelson's notation).\n",
    "\n",
    "We also have (TODO: explain origin)\n",
    "$$\n",
    "J_0 = q\\frac{2F_a}{h^3c^2}\\int_{E_g}^\\infty {\\rm d}E \\frac{E^2}{e^{E/k_BT_{\\rm cell}}-1}\n",
    "$$\n",
    "where $F_a=\\pi$ in the ideal case (normal incidence of all rays). \n",
    "\n",
    "Finally, \n",
    "$$\n",
    "J = J_{\\rm sc} - J_0(e^{qV/k_BT}-1)\n",
    "$$"
   ]
  },
  {
   "cell_type": "code",
   "execution_count": null,
   "metadata": {},
   "outputs": [],
   "source": [
    "# for a given band gap Eg, define the function Jsc\n",
    "Jsc(Eg) = q*integrate(Es[Es.>=Eg], γ[Es.>=Eg]) * 0.1 # 0.1 converts A/m^2 to mA/cm^2\n",
    "function J0(Eg) \n",
    "    E = Es[Es.>=Eg];\n",
    "    integrand = q*2*π * eV / h^3 / c^2 * (E*eV).^2 ./ (exp.(E.*eV./kB./Tcell).-1);\n",
    "    integrate(E, integrand)*0.1\n",
    "    # C * eV / eV / nm / m^2 /kg *s * eV^2\n",
    "    # C * nm / m^2 / kg * s * eV^2\n",
    "end\n",
    "# J0(1)\n",
    "# Jsc(1)\n",
    "J(Eg, V) = Jsc(Eg).-J0(Eg).*(exp.(q.*V./kB./Tcell).-1)\n",
    "Voc(Eg) = kB*Tcell / q * log.(Jsc(Eg)./J0(Eg));\n",
    "Voc(1.1)"
   ]
  },
  {
   "cell_type": "code",
   "execution_count": null,
   "metadata": {},
   "outputs": [],
   "source": [
    "# V is from 0 to V_oc \n",
    "# for now just use 0 to E_g\n",
    "η = zeros(size(Es))\n",
    "for i in 1:length(Es)\n",
    "    Eg = Es[i]\n",
    "    Vs = LinRange(0, Eg, 1000)\n",
    "    Jcurr = J(Eg,Vs)\n",
    "    η[i] = maximum(Jcurr.*Vs/Psolar)\n",
    "end\n",
    "p = plot(Es, η, title=\"Shockley-Quiesser Limit\", xlabel=\"Band Gap (eV)\", ylabel=\"Efficiency\", leg=false)\n",
    "display(p)\n",
    "j = argmax(η)\n",
    "println(\"Maximum single-junction solar cell efficiency is $(100*η[j])% at $(Es[j]) eV band gap.\")"
   ]
  }
 ],
 "metadata": {
  "kernelspec": {
   "display_name": "Julia 1.4.1",
   "language": "julia",
   "name": "julia-1.4"
  },
  "language_info": {
   "file_extension": ".jl",
   "mimetype": "application/julia",
   "name": "julia",
   "version": "1.4.1"
  }
 },
 "nbformat": 4,
 "nbformat_minor": 4
}
